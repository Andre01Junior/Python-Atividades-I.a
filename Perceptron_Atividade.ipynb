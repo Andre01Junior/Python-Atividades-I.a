{
  "nbformat": 4,
  "nbformat_minor": 0,
  "metadata": {
    "colab": {
      "provenance": [],
      "name": "Perceptron Atividade",
      "authorship_tag": "ABX9TyOp2Dyd3bq0N71TvCYUOqJn",
      "include_colab_link": true
    },
    "kernelspec": {
      "name": "python3",
      "display_name": "Python 3"
    },
    "language_info": {
      "name": "python"
    }
  },
  "cells": [
    {
      "cell_type": "markdown",
      "metadata": {
        "id": "view-in-github",
        "colab_type": "text"
      },
      "source": [
        "<a href=\"https://colab.research.google.com/github/Andre01Junior/Python-Atividades-I.a/blob/main/Perceptron_Atividade.ipynb\" target=\"_parent\"><img src=\"https://colab.research.google.com/assets/colab-badge.svg\" alt=\"Open In Colab\"/></a>"
      ]
    },
    {
      "cell_type": "code",
      "execution_count": null,
      "metadata": {
        "colab": {
          "base_uri": "https://localhost:8080/"
        },
        "id": "5hYdNAvGm8RS",
        "outputId": "e91f8753-b2ed-4642-d74f-b9a1d95aeea7"
      },
      "outputs": [
        {
          "output_type": "stream",
          "name": "stdout",
          "text": [
            "Previsões:\n",
            "Nuvens: 0, Previsão Chuva: 0 => Levar Guarda-chuva? Não\n",
            "Nuvens: 0, Previsão Chuva: 1 => Levar Guarda-chuva? Sim\n",
            "Nuvens: 1, Previsão Chuva: 0 => Levar Guarda-chuva? Sim\n",
            "Nuvens: 1, Previsão Chuva: 1 => Levar Guarda-chuva? Sim\n"
          ]
        }
      ],
      "source": [
        "from sklearn.linear_model import Perceptron\n",
        "\n",
        "X = [[0, 0], [0, 1], [1, 0], [1, 1]]\n",
        "\n",
        "Y = [0, 1, 1, 1]\n",
        "\n",
        "modelo = Perceptron()\n",
        "modelo.fit(X, Y)\n",
        "\n",
        "print(\"Previsões:\")\n",
        "testes = [[0,0], [0,1], [1,0], [1,1]]\n",
        "for teste in testes:\n",
        "  previsao = modelo.predict([teste])\n",
        "  print(f\"Nuvens: {teste[0]}, Previsão Chuva: {teste[1]} => Levar Guarda-chuva? {'Sim' if previsao[0] == 1 else 'Não'}\")"
      ]
    }
  ]
}