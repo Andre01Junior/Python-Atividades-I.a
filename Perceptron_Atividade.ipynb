{
  "nbformat": 4,
  "nbformat_minor": 0,
  "metadata": {
    "colab": {
      "provenance": [],
      "name": "Perceptron Atividade",
      "authorship_tag": "ABX9TyPHnswIrJDZSmO1muBIKmYi",
      "include_colab_link": true
    },
    "kernelspec": {
      "name": "python3",
      "display_name": "Python 3"
    },
    "language_info": {
      "name": "python"
    }
  },
  "cells": [
    {
      "cell_type": "markdown",
      "metadata": {
        "id": "view-in-github",
        "colab_type": "text"
      },
      "source": [
        "<a href=\"https://colab.research.google.com/github/Andre01Junior/Python-Atividades-I.a/blob/main/Perceptron_Atividade.ipynb\" target=\"_parent\"><img src=\"https://colab.research.google.com/assets/colab-badge.svg\" alt=\"Open In Colab\"/></a>"
      ]
    },
    {
      "cell_type": "code",
      "execution_count": null,
      "metadata": {
        "colab": {
          "base_uri": "https://localhost:8080/"
        },
        "id": "5hYdNAvGm8RS",
        "outputId": "e91f8753-b2ed-4642-d74f-b9a1d95aeea7"
      },
      "outputs": [
        {
          "output_type": "stream",
          "name": "stdout",
          "text": [
            "Previsões:\n",
            "Nuvens: 0, Previsão Chuva: 0 => Levar Guarda-chuva? Não\n",
            "Nuvens: 0, Previsão Chuva: 1 => Levar Guarda-chuva? Sim\n",
            "Nuvens: 1, Previsão Chuva: 0 => Levar Guarda-chuva? Sim\n",
            "Nuvens: 1, Previsão Chuva: 1 => Levar Guarda-chuva? Sim\n"
          ]
        }
      ],
      "source": [
        "from sklearn.linear_model import Perceptron\n",
        "\n",
        "X = [[0, 0], [0, 1], [1, 0], [1, 1]]\n",
        "\n",
        "Y = [0, 1, 1, 1]\n",
        "\n",
        "modelo = Perceptron()\n",
        "modelo.fit(X, Y)\n",
        "\n",
        "print(\"Previsões:\")\n",
        "testes = [[0,0], [0,1], [1,0], [1,1]]\n",
        "for teste in testes:\n",
        "  previsao = modelo.predict([teste])\n",
        "  print(f\"Nuvens: {teste[0]}, Previsão Chuva: {teste[1]} => Levar Guarda-chuva? {'Sim' if previsao[0] == 1 else 'Não'}\")"
      ]
    },
    {
      "cell_type": "code",
      "source": [
        "from sklearn.linear_model import Perceptron\n",
        "\n",
        "X = [[0, 0, 0], [0, 1, 0], [1, 0, 0], [1, 1, 0], [0, 0, 1], [0, 1, 1], [1, 0, 1], [1, 1, 1]]\n",
        "\n",
        "Y = [0, 1, 1, 1, 0, 0, 0, 0]\n",
        "\n",
        "modelo = Perceptron()\n",
        "modelo.fit(X, Y)\n",
        "\n",
        "print(\"Previsões:\")\n",
        "\n",
        "testes = [[0, 0, 0], [0, 1, 0], [1, 0, 0], [1, 1, 0], [0, 0, 1], [0, 1, 1], [1, 0, 1], [1, 1, 1]]\n",
        "\n",
        "for teste in testes:\n",
        "    previsao = modelo.predict([teste])\n",
        "    print(f\"Ensolarado: {teste[0]}, Final de semana: {teste[1]}, Parque lotado: {teste[2]} => Ir ao parque? {'Sim' if previsao[0] == 1 else 'Não'}\")"
      ],
      "metadata": {
        "id": "i6LfVy7Quz0x",
        "outputId": "543f4d75-a69b-40d1-bbfe-e97d0833c0a6",
        "colab": {
          "base_uri": "https://localhost:8080/"
        }
      },
      "execution_count": 9,
      "outputs": [
        {
          "output_type": "stream",
          "name": "stdout",
          "text": [
            "Previsões:\n",
            "Ensolarado: 0, Final de semana: 0, Parque lotado: 0 => Ir ao parque? Não\n",
            "Ensolarado: 0, Final de semana: 1, Parque lotado: 0 => Ir ao parque? Sim\n",
            "Ensolarado: 1, Final de semana: 0, Parque lotado: 0 => Ir ao parque? Sim\n",
            "Ensolarado: 1, Final de semana: 1, Parque lotado: 0 => Ir ao parque? Sim\n",
            "Ensolarado: 0, Final de semana: 0, Parque lotado: 1 => Ir ao parque? Não\n",
            "Ensolarado: 0, Final de semana: 1, Parque lotado: 1 => Ir ao parque? Não\n",
            "Ensolarado: 1, Final de semana: 0, Parque lotado: 1 => Ir ao parque? Não\n",
            "Ensolarado: 1, Final de semana: 1, Parque lotado: 1 => Ir ao parque? Não\n"
          ]
        }
      ]
    },
    {
      "cell_type": "code",
      "source": [
        "\n",
        "from sklearn.linear_model import Perceptron\n",
        "\n",
        "X = [[0,1,1,1], [1,0,1,1,], [1,1,0,1], [0,0,1,0], [1,1,1,1], [0,1,0,0], [1,0,0,1], [0,0,0,1]]\n",
        "\n",
        "Y = [0,1,0,1,1,0,0,0]\n",
        "\n",
        "modelo = Perceptron()\n",
        "modelo.fit(X, Y)\n",
        "\n",
        "print(\"Previsões:\")\n",
        "\n",
        "testes = [[0,1,1,1], [1,0,1,1,], [1,1,0,1], [0,0,1,0], [1,1,1,1], [0,1,0,0], [1,0,0,1], [0,0,0,1]]\n",
        "\n",
        "for teste in testes:\n",
        "    previsao = modelo.predict([teste])\n",
        "    print(f\"Cansaso: {teste[0]}, Ingredientes em Casa: {teste[1]}, Restaurantes Abertos: {teste[2]}, Dia de Pagamento: {teste[3]} => Ir ao Restaurante? {'Sim' if previsao[0] == 1 else 'Não'}\")"
      ],
      "metadata": {
        "id": "7gH2eneu1yQo",
        "outputId": "02e7e10e-7402-4d1e-9fef-f9f2b7da460f",
        "colab": {
          "base_uri": "https://localhost:8080/"
        }
      },
      "execution_count": 10,
      "outputs": [
        {
          "output_type": "stream",
          "name": "stdout",
          "text": [
            "Previsões:\n",
            "Cansaso: 0, Ingredientes em Casa: 1, Restaurantes Abertos: 1, Dia de Pagamento: 1 => Ir ao Restaurante? Não\n",
            "Cansaso: 1, Ingredientes em Casa: 0, Restaurantes Abertos: 1, Dia de Pagamento: 1 => Ir ao Restaurante? Sim\n",
            "Cansaso: 1, Ingredientes em Casa: 1, Restaurantes Abertos: 0, Dia de Pagamento: 1 => Ir ao Restaurante? Não\n",
            "Cansaso: 0, Ingredientes em Casa: 0, Restaurantes Abertos: 1, Dia de Pagamento: 0 => Ir ao Restaurante? Sim\n",
            "Cansaso: 1, Ingredientes em Casa: 1, Restaurantes Abertos: 1, Dia de Pagamento: 1 => Ir ao Restaurante? Sim\n",
            "Cansaso: 0, Ingredientes em Casa: 1, Restaurantes Abertos: 0, Dia de Pagamento: 0 => Ir ao Restaurante? Não\n",
            "Cansaso: 1, Ingredientes em Casa: 0, Restaurantes Abertos: 0, Dia de Pagamento: 1 => Ir ao Restaurante? Não\n",
            "Cansaso: 0, Ingredientes em Casa: 0, Restaurantes Abertos: 0, Dia de Pagamento: 1 => Ir ao Restaurante? Não\n"
          ]
        }
      ]
    }
  ]
}